{
 "cells": [
  {
   "cell_type": "markdown",
   "metadata": {},
   "source": [
    "# Binary Classification with a Software Defects"
   ]
  },
  {
   "cell_type": "markdown",
   "metadata": {},
   "source": [
    "<b style=\"color:blue; font-size: 25px\">Informations from Kaggle:</b><br>\n",
    "**Your Goal:** Predict defects in C programs given various various attributes about the code.<br><br>\n",
    "**Evaluation Metric:** Submissions are evaluated on area under the ROC curve between the predicted probability and the observed target.<br><br>"
   ]
  },
  {
   "cell_type": "markdown",
   "metadata": {},
   "source": [
    "<b style=\"color:blue; font-size:20px\">My Description:</b><br> In this project I will try to predict whether the software defects are present or not. That look like a NLP project. Exact opposite this is a binary classification project. I will use classical machine learning to determine which columns are really related to the dependent varible. I will then use deep learning to predict the defects. Let's get started!"
   ]
  },
  {
   "cell_type": "code",
   "execution_count": 1,
   "metadata": {
    "_cell_guid": "b1076dfc-b9ad-4769-8c92-a6c4dae69d19",
    "_uuid": "8f2839f25d086af736a60e9eeb907d3b93b6e0e5",
    "execution": {
     "iopub.execute_input": "2024-05-29T15:35:23.893891Z",
     "iopub.status.busy": "2024-05-29T15:35:23.892817Z",
     "iopub.status.idle": "2024-05-29T15:35:24.486337Z",
     "shell.execute_reply": "2024-05-29T15:35:24.485160Z",
     "shell.execute_reply.started": "2024-05-29T15:35:23.893813Z"
    }
   },
   "outputs": [
    {
     "name": "stdout",
     "output_type": "stream",
     "text": [
      "/kaggle/input/playground-series-s3e23/sample_submission.csv\n",
      "/kaggle/input/playground-series-s3e23/train.csv\n",
      "/kaggle/input/playground-series-s3e23/test.csv\n"
     ]
    }
   ],
   "source": [
    "# This Python 3 environment comes with many helpful analytics libraries installed\n",
    "# It is defined by the kaggle/python Docker image: https://github.com/kaggle/docker-python\n",
    "# For example, here's several helpful packages to load\n",
    "\n",
    "import numpy as np # linear algebra\n",
    "import pandas as pd # data processing, CSV file I/O (e.g. pd.read_csv)\n",
    "\n",
    "# Input data files are available in the read-only \"../input/\" directory\n",
    "# For example, running this (by clicking run or pressing Shift+Enter) will list all files under the input directory\n",
    "\n",
    "import os\n",
    "for dirname, _, filenames in os.walk('/kaggle/input'):\n",
    "    for filename in filenames:\n",
    "        print(os.path.join(dirname, filename))\n",
    "\n",
    "# You can write up to 20GB to the current directory (/kaggle/working/) that gets preserved as output when you create a version using \"Save & Run All\" \n",
    "# You can also write temporary files to /kaggle/temp/, but they won't be saved outside of the current session"
   ]
  },
  {
   "cell_type": "code",
   "execution_count": 2,
   "metadata": {
    "execution": {
     "iopub.execute_input": "2024-05-29T15:35:24.493089Z",
     "iopub.status.busy": "2024-05-29T15:35:24.492207Z",
     "iopub.status.idle": "2024-05-29T15:35:25.473982Z",
     "shell.execute_reply": "2024-05-29T15:35:25.471957Z",
     "shell.execute_reply.started": "2024-05-29T15:35:24.493049Z"
    }
   },
   "outputs": [],
   "source": [
    "#Reading Dataset\n",
    "ss=pd.read_csv(\"/kaggle/input/playground-series-s3e23/sample_submission.csv\")\n",
    "test=pd.read_csv(\"/kaggle/input/playground-series-s3e23/test.csv\")\n",
    "train=pd.read_csv(\"/kaggle/input/playground-series-s3e23/train.csv\")"
   ]
  },
  {
   "cell_type": "markdown",
   "metadata": {},
   "source": [
    "## EDA - Exploratory Data Analysis"
   ]
  },
  {
   "cell_type": "markdown",
   "metadata": {},
   "source": [
    "**What is EDA?**<br>\n",
    "EDA(Exploratory Data Analysis) is a method of data analysis that involves an initial. It helps me to understand the data better."
   ]
  },
  {
   "cell_type": "code",
   "execution_count": 3,
   "metadata": {
    "execution": {
     "iopub.execute_input": "2024-05-29T15:35:25.478030Z",
     "iopub.status.busy": "2024-05-29T15:35:25.476834Z",
     "iopub.status.idle": "2024-05-29T15:35:25.511568Z",
     "shell.execute_reply": "2024-05-29T15:35:25.509728Z",
     "shell.execute_reply.started": "2024-05-29T15:35:25.477960Z"
    }
   },
   "outputs": [
    {
     "data": {
      "text/html": [
       "<div>\n",
       "<style scoped>\n",
       "    .dataframe tbody tr th:only-of-type {\n",
       "        vertical-align: middle;\n",
       "    }\n",
       "\n",
       "    .dataframe tbody tr th {\n",
       "        vertical-align: top;\n",
       "    }\n",
       "\n",
       "    .dataframe thead th {\n",
       "        text-align: right;\n",
       "    }\n",
       "</style>\n",
       "<table border=\"1\" class=\"dataframe\">\n",
       "  <thead>\n",
       "    <tr style=\"text-align: right;\">\n",
       "      <th></th>\n",
       "      <th>id</th>\n",
       "      <th>defects</th>\n",
       "    </tr>\n",
       "  </thead>\n",
       "  <tbody>\n",
       "    <tr>\n",
       "      <th>0</th>\n",
       "      <td>101763</td>\n",
       "      <td>0.5</td>\n",
       "    </tr>\n",
       "    <tr>\n",
       "      <th>1</th>\n",
       "      <td>101764</td>\n",
       "      <td>0.5</td>\n",
       "    </tr>\n",
       "    <tr>\n",
       "      <th>2</th>\n",
       "      <td>101765</td>\n",
       "      <td>0.5</td>\n",
       "    </tr>\n",
       "    <tr>\n",
       "      <th>3</th>\n",
       "      <td>101766</td>\n",
       "      <td>0.5</td>\n",
       "    </tr>\n",
       "    <tr>\n",
       "      <th>4</th>\n",
       "      <td>101767</td>\n",
       "      <td>0.5</td>\n",
       "    </tr>\n",
       "  </tbody>\n",
       "</table>\n",
       "</div>"
      ],
      "text/plain": [
       "       id  defects\n",
       "0  101763      0.5\n",
       "1  101764      0.5\n",
       "2  101765      0.5\n",
       "3  101766      0.5\n",
       "4  101767      0.5"
      ]
     },
     "execution_count": 3,
     "metadata": {},
     "output_type": "execute_result"
    }
   ],
   "source": [
    "ss.head()"
   ]
  },
  {
   "cell_type": "code",
   "execution_count": 4,
   "metadata": {
    "execution": {
     "iopub.execute_input": "2024-05-29T15:35:25.519120Z",
     "iopub.status.busy": "2024-05-29T15:35:25.517834Z",
     "iopub.status.idle": "2024-05-29T15:35:25.588706Z",
     "shell.execute_reply": "2024-05-29T15:35:25.587398Z",
     "shell.execute_reply.started": "2024-05-29T15:35:25.519040Z"
    }
   },
   "outputs": [
    {
     "data": {
      "text/html": [
       "<div>\n",
       "<style scoped>\n",
       "    .dataframe tbody tr th:only-of-type {\n",
       "        vertical-align: middle;\n",
       "    }\n",
       "\n",
       "    .dataframe tbody tr th {\n",
       "        vertical-align: top;\n",
       "    }\n",
       "\n",
       "    .dataframe thead th {\n",
       "        text-align: right;\n",
       "    }\n",
       "</style>\n",
       "<table border=\"1\" class=\"dataframe\">\n",
       "  <thead>\n",
       "    <tr style=\"text-align: right;\">\n",
       "      <th></th>\n",
       "      <th>id</th>\n",
       "      <th>loc</th>\n",
       "      <th>v(g)</th>\n",
       "      <th>ev(g)</th>\n",
       "      <th>iv(g)</th>\n",
       "      <th>n</th>\n",
       "      <th>v</th>\n",
       "      <th>l</th>\n",
       "      <th>d</th>\n",
       "      <th>i</th>\n",
       "      <th>...</th>\n",
       "      <th>lOCode</th>\n",
       "      <th>lOComment</th>\n",
       "      <th>lOBlank</th>\n",
       "      <th>locCodeAndComment</th>\n",
       "      <th>uniq_Op</th>\n",
       "      <th>uniq_Opnd</th>\n",
       "      <th>total_Op</th>\n",
       "      <th>total_Opnd</th>\n",
       "      <th>branchCount</th>\n",
       "      <th>defects</th>\n",
       "    </tr>\n",
       "  </thead>\n",
       "  <tbody>\n",
       "    <tr>\n",
       "      <th>0</th>\n",
       "      <td>0</td>\n",
       "      <td>22.0</td>\n",
       "      <td>3.0</td>\n",
       "      <td>1.0</td>\n",
       "      <td>2.0</td>\n",
       "      <td>60.0</td>\n",
       "      <td>278.63</td>\n",
       "      <td>0.06</td>\n",
       "      <td>19.56</td>\n",
       "      <td>14.25</td>\n",
       "      <td>...</td>\n",
       "      <td>17</td>\n",
       "      <td>1</td>\n",
       "      <td>1</td>\n",
       "      <td>0</td>\n",
       "      <td>16.0</td>\n",
       "      <td>9.0</td>\n",
       "      <td>38.0</td>\n",
       "      <td>22.0</td>\n",
       "      <td>5.0</td>\n",
       "      <td>False</td>\n",
       "    </tr>\n",
       "    <tr>\n",
       "      <th>1</th>\n",
       "      <td>1</td>\n",
       "      <td>14.0</td>\n",
       "      <td>2.0</td>\n",
       "      <td>1.0</td>\n",
       "      <td>2.0</td>\n",
       "      <td>32.0</td>\n",
       "      <td>151.27</td>\n",
       "      <td>0.14</td>\n",
       "      <td>7.00</td>\n",
       "      <td>21.11</td>\n",
       "      <td>...</td>\n",
       "      <td>11</td>\n",
       "      <td>0</td>\n",
       "      <td>1</td>\n",
       "      <td>0</td>\n",
       "      <td>11.0</td>\n",
       "      <td>11.0</td>\n",
       "      <td>18.0</td>\n",
       "      <td>14.0</td>\n",
       "      <td>3.0</td>\n",
       "      <td>False</td>\n",
       "    </tr>\n",
       "    <tr>\n",
       "      <th>2</th>\n",
       "      <td>2</td>\n",
       "      <td>11.0</td>\n",
       "      <td>2.0</td>\n",
       "      <td>1.0</td>\n",
       "      <td>2.0</td>\n",
       "      <td>45.0</td>\n",
       "      <td>197.65</td>\n",
       "      <td>0.11</td>\n",
       "      <td>8.05</td>\n",
       "      <td>22.76</td>\n",
       "      <td>...</td>\n",
       "      <td>8</td>\n",
       "      <td>0</td>\n",
       "      <td>1</td>\n",
       "      <td>0</td>\n",
       "      <td>12.0</td>\n",
       "      <td>11.0</td>\n",
       "      <td>28.0</td>\n",
       "      <td>17.0</td>\n",
       "      <td>3.0</td>\n",
       "      <td>False</td>\n",
       "    </tr>\n",
       "    <tr>\n",
       "      <th>3</th>\n",
       "      <td>3</td>\n",
       "      <td>8.0</td>\n",
       "      <td>1.0</td>\n",
       "      <td>1.0</td>\n",
       "      <td>1.0</td>\n",
       "      <td>23.0</td>\n",
       "      <td>94.01</td>\n",
       "      <td>0.19</td>\n",
       "      <td>5.25</td>\n",
       "      <td>17.86</td>\n",
       "      <td>...</td>\n",
       "      <td>4</td>\n",
       "      <td>0</td>\n",
       "      <td>2</td>\n",
       "      <td>0</td>\n",
       "      <td>8.0</td>\n",
       "      <td>6.0</td>\n",
       "      <td>16.0</td>\n",
       "      <td>7.0</td>\n",
       "      <td>1.0</td>\n",
       "      <td>True</td>\n",
       "    </tr>\n",
       "    <tr>\n",
       "      <th>4</th>\n",
       "      <td>4</td>\n",
       "      <td>11.0</td>\n",
       "      <td>2.0</td>\n",
       "      <td>1.0</td>\n",
       "      <td>2.0</td>\n",
       "      <td>17.0</td>\n",
       "      <td>60.94</td>\n",
       "      <td>0.18</td>\n",
       "      <td>5.63</td>\n",
       "      <td>12.44</td>\n",
       "      <td>...</td>\n",
       "      <td>7</td>\n",
       "      <td>0</td>\n",
       "      <td>2</td>\n",
       "      <td>0</td>\n",
       "      <td>7.0</td>\n",
       "      <td>6.0</td>\n",
       "      <td>10.0</td>\n",
       "      <td>10.0</td>\n",
       "      <td>3.0</td>\n",
       "      <td>False</td>\n",
       "    </tr>\n",
       "  </tbody>\n",
       "</table>\n",
       "<p>5 rows × 23 columns</p>\n",
       "</div>"
      ],
      "text/plain": [
       "   id   loc  v(g)  ev(g)  iv(g)     n       v     l      d      i  ...  \\\n",
       "0   0  22.0   3.0    1.0    2.0  60.0  278.63  0.06  19.56  14.25  ...   \n",
       "1   1  14.0   2.0    1.0    2.0  32.0  151.27  0.14   7.00  21.11  ...   \n",
       "2   2  11.0   2.0    1.0    2.0  45.0  197.65  0.11   8.05  22.76  ...   \n",
       "3   3   8.0   1.0    1.0    1.0  23.0   94.01  0.19   5.25  17.86  ...   \n",
       "4   4  11.0   2.0    1.0    2.0  17.0   60.94  0.18   5.63  12.44  ...   \n",
       "\n",
       "   lOCode  lOComment  lOBlank  locCodeAndComment  uniq_Op  uniq_Opnd  \\\n",
       "0      17          1        1                  0     16.0        9.0   \n",
       "1      11          0        1                  0     11.0       11.0   \n",
       "2       8          0        1                  0     12.0       11.0   \n",
       "3       4          0        2                  0      8.0        6.0   \n",
       "4       7          0        2                  0      7.0        6.0   \n",
       "\n",
       "   total_Op  total_Opnd  branchCount  defects  \n",
       "0      38.0        22.0          5.0    False  \n",
       "1      18.0        14.0          3.0    False  \n",
       "2      28.0        17.0          3.0    False  \n",
       "3      16.0         7.0          1.0     True  \n",
       "4      10.0        10.0          3.0    False  \n",
       "\n",
       "[5 rows x 23 columns]"
      ]
     },
     "execution_count": 4,
     "metadata": {},
     "output_type": "execute_result"
    }
   ],
   "source": [
    "train.head()"
   ]
  },
  {
   "cell_type": "code",
   "execution_count": 5,
   "metadata": {
    "execution": {
     "iopub.execute_input": "2024-05-29T15:35:25.592136Z",
     "iopub.status.busy": "2024-05-29T15:35:25.591196Z",
     "iopub.status.idle": "2024-05-29T15:35:25.619504Z",
     "shell.execute_reply": "2024-05-29T15:35:25.618449Z",
     "shell.execute_reply.started": "2024-05-29T15:35:25.592081Z"
    }
   },
   "outputs": [
    {
     "name": "stdout",
     "output_type": "stream",
     "text": [
      "<class 'pandas.core.frame.DataFrame'>\n",
      "RangeIndex: 101763 entries, 0 to 101762\n",
      "Data columns (total 23 columns):\n",
      " #   Column             Non-Null Count   Dtype  \n",
      "---  ------             --------------   -----  \n",
      " 0   id                 101763 non-null  int64  \n",
      " 1   loc                101763 non-null  float64\n",
      " 2   v(g)               101763 non-null  float64\n",
      " 3   ev(g)              101763 non-null  float64\n",
      " 4   iv(g)              101763 non-null  float64\n",
      " 5   n                  101763 non-null  float64\n",
      " 6   v                  101763 non-null  float64\n",
      " 7   l                  101763 non-null  float64\n",
      " 8   d                  101763 non-null  float64\n",
      " 9   i                  101763 non-null  float64\n",
      " 10  e                  101763 non-null  float64\n",
      " 11  b                  101763 non-null  float64\n",
      " 12  t                  101763 non-null  float64\n",
      " 13  lOCode             101763 non-null  int64  \n",
      " 14  lOComment          101763 non-null  int64  \n",
      " 15  lOBlank            101763 non-null  int64  \n",
      " 16  locCodeAndComment  101763 non-null  int64  \n",
      " 17  uniq_Op            101763 non-null  float64\n",
      " 18  uniq_Opnd          101763 non-null  float64\n",
      " 19  total_Op           101763 non-null  float64\n",
      " 20  total_Opnd         101763 non-null  float64\n",
      " 21  branchCount        101763 non-null  float64\n",
      " 22  defects            101763 non-null  bool   \n",
      "dtypes: bool(1), float64(17), int64(5)\n",
      "memory usage: 17.2 MB\n"
     ]
    }
   ],
   "source": [
    "train.info()"
   ]
  },
  {
   "cell_type": "code",
   "execution_count": 6,
   "metadata": {
    "execution": {
     "iopub.execute_input": "2024-05-29T15:35:25.622295Z",
     "iopub.status.busy": "2024-05-29T15:35:25.620945Z",
     "iopub.status.idle": "2024-05-29T15:35:25.634670Z",
     "shell.execute_reply": "2024-05-29T15:35:25.633174Z",
     "shell.execute_reply.started": "2024-05-29T15:35:25.622251Z"
    }
   },
   "outputs": [
    {
     "data": {
      "text/plain": [
       "0         0\n",
       "1         0\n",
       "2         0\n",
       "3         1\n",
       "4         0\n",
       "         ..\n",
       "101758    0\n",
       "101759    0\n",
       "101760    0\n",
       "101761    0\n",
       "101762    0\n",
       "Name: defects, Length: 101763, dtype: int64"
      ]
     },
     "execution_count": 6,
     "metadata": {},
     "output_type": "execute_result"
    }
   ],
   "source": [
    "train[\"defects\"].astype(int)"
   ]
  },
  {
   "cell_type": "code",
   "execution_count": 7,
   "metadata": {
    "execution": {
     "iopub.execute_input": "2024-05-29T15:35:25.636570Z",
     "iopub.status.busy": "2024-05-29T15:35:25.636145Z",
     "iopub.status.idle": "2024-05-29T15:35:25.679445Z",
     "shell.execute_reply": "2024-05-29T15:35:25.677558Z",
     "shell.execute_reply.started": "2024-05-29T15:35:25.636533Z"
    }
   },
   "outputs": [
    {
     "data": {
      "text/html": [
       "<div>\n",
       "<style scoped>\n",
       "    .dataframe tbody tr th:only-of-type {\n",
       "        vertical-align: middle;\n",
       "    }\n",
       "\n",
       "    .dataframe tbody tr th {\n",
       "        vertical-align: top;\n",
       "    }\n",
       "\n",
       "    .dataframe thead th {\n",
       "        text-align: right;\n",
       "    }\n",
       "</style>\n",
       "<table border=\"1\" class=\"dataframe\">\n",
       "  <thead>\n",
       "    <tr style=\"text-align: right;\">\n",
       "      <th></th>\n",
       "      <th>id</th>\n",
       "      <th>loc</th>\n",
       "      <th>v(g)</th>\n",
       "      <th>ev(g)</th>\n",
       "      <th>iv(g)</th>\n",
       "      <th>n</th>\n",
       "      <th>v</th>\n",
       "      <th>l</th>\n",
       "      <th>d</th>\n",
       "      <th>i</th>\n",
       "      <th>...</th>\n",
       "      <th>t</th>\n",
       "      <th>lOCode</th>\n",
       "      <th>lOComment</th>\n",
       "      <th>lOBlank</th>\n",
       "      <th>locCodeAndComment</th>\n",
       "      <th>uniq_Op</th>\n",
       "      <th>uniq_Opnd</th>\n",
       "      <th>total_Op</th>\n",
       "      <th>total_Opnd</th>\n",
       "      <th>branchCount</th>\n",
       "    </tr>\n",
       "  </thead>\n",
       "  <tbody>\n",
       "    <tr>\n",
       "      <th>0</th>\n",
       "      <td>101763</td>\n",
       "      <td>33.0</td>\n",
       "      <td>5.0</td>\n",
       "      <td>1.0</td>\n",
       "      <td>4.0</td>\n",
       "      <td>144.0</td>\n",
       "      <td>824.82</td>\n",
       "      <td>0.04</td>\n",
       "      <td>26.96</td>\n",
       "      <td>30.05</td>\n",
       "      <td>...</td>\n",
       "      <td>1257.60</td>\n",
       "      <td>30</td>\n",
       "      <td>0</td>\n",
       "      <td>3</td>\n",
       "      <td>0</td>\n",
       "      <td>21.0</td>\n",
       "      <td>23.0</td>\n",
       "      <td>87.0</td>\n",
       "      <td>57.0</td>\n",
       "      <td>9.0</td>\n",
       "    </tr>\n",
       "    <tr>\n",
       "      <th>1</th>\n",
       "      <td>101764</td>\n",
       "      <td>27.0</td>\n",
       "      <td>8.0</td>\n",
       "      <td>8.0</td>\n",
       "      <td>2.0</td>\n",
       "      <td>125.0</td>\n",
       "      <td>646.24</td>\n",
       "      <td>0.04</td>\n",
       "      <td>22.82</td>\n",
       "      <td>27.22</td>\n",
       "      <td>...</td>\n",
       "      <td>804.58</td>\n",
       "      <td>23</td>\n",
       "      <td>0</td>\n",
       "      <td>2</td>\n",
       "      <td>0</td>\n",
       "      <td>18.0</td>\n",
       "      <td>19.0</td>\n",
       "      <td>70.0</td>\n",
       "      <td>49.0</td>\n",
       "      <td>15.0</td>\n",
       "    </tr>\n",
       "    <tr>\n",
       "      <th>2</th>\n",
       "      <td>101765</td>\n",
       "      <td>130.0</td>\n",
       "      <td>11.0</td>\n",
       "      <td>7.0</td>\n",
       "      <td>10.0</td>\n",
       "      <td>545.0</td>\n",
       "      <td>3831.40</td>\n",
       "      <td>0.02</td>\n",
       "      <td>48.15</td>\n",
       "      <td>66.17</td>\n",
       "      <td>...</td>\n",
       "      <td>6453.34</td>\n",
       "      <td>99</td>\n",
       "      <td>9</td>\n",
       "      <td>17</td>\n",
       "      <td>1</td>\n",
       "      <td>26.0</td>\n",
       "      <td>53.0</td>\n",
       "      <td>333.0</td>\n",
       "      <td>244.0</td>\n",
       "      <td>21.0</td>\n",
       "    </tr>\n",
       "    <tr>\n",
       "      <th>3</th>\n",
       "      <td>101766</td>\n",
       "      <td>65.0</td>\n",
       "      <td>7.0</td>\n",
       "      <td>1.0</td>\n",
       "      <td>7.0</td>\n",
       "      <td>156.0</td>\n",
       "      <td>855.71</td>\n",
       "      <td>0.06</td>\n",
       "      <td>17.23</td>\n",
       "      <td>49.89</td>\n",
       "      <td>...</td>\n",
       "      <td>896.42</td>\n",
       "      <td>45</td>\n",
       "      <td>8</td>\n",
       "      <td>10</td>\n",
       "      <td>0</td>\n",
       "      <td>15.0</td>\n",
       "      <td>26.0</td>\n",
       "      <td>88.0</td>\n",
       "      <td>60.0</td>\n",
       "      <td>13.0</td>\n",
       "    </tr>\n",
       "    <tr>\n",
       "      <th>4</th>\n",
       "      <td>101767</td>\n",
       "      <td>22.0</td>\n",
       "      <td>3.0</td>\n",
       "      <td>1.0</td>\n",
       "      <td>3.0</td>\n",
       "      <td>52.0</td>\n",
       "      <td>238.42</td>\n",
       "      <td>0.10</td>\n",
       "      <td>9.60</td>\n",
       "      <td>26.70</td>\n",
       "      <td>...</td>\n",
       "      <td>145.80</td>\n",
       "      <td>16</td>\n",
       "      <td>0</td>\n",
       "      <td>4</td>\n",
       "      <td>0</td>\n",
       "      <td>12.0</td>\n",
       "      <td>15.0</td>\n",
       "      <td>30.0</td>\n",
       "      <td>24.0</td>\n",
       "      <td>5.0</td>\n",
       "    </tr>\n",
       "  </tbody>\n",
       "</table>\n",
       "<p>5 rows × 22 columns</p>\n",
       "</div>"
      ],
      "text/plain": [
       "       id    loc  v(g)  ev(g)  iv(g)      n        v     l      d      i  ...  \\\n",
       "0  101763   33.0   5.0    1.0    4.0  144.0   824.82  0.04  26.96  30.05  ...   \n",
       "1  101764   27.0   8.0    8.0    2.0  125.0   646.24  0.04  22.82  27.22  ...   \n",
       "2  101765  130.0  11.0    7.0   10.0  545.0  3831.40  0.02  48.15  66.17  ...   \n",
       "3  101766   65.0   7.0    1.0    7.0  156.0   855.71  0.06  17.23  49.89  ...   \n",
       "4  101767   22.0   3.0    1.0    3.0   52.0   238.42  0.10   9.60  26.70  ...   \n",
       "\n",
       "         t  lOCode  lOComment  lOBlank  locCodeAndComment  uniq_Op  uniq_Opnd  \\\n",
       "0  1257.60      30          0        3                  0     21.0       23.0   \n",
       "1   804.58      23          0        2                  0     18.0       19.0   \n",
       "2  6453.34      99          9       17                  1     26.0       53.0   \n",
       "3   896.42      45          8       10                  0     15.0       26.0   \n",
       "4   145.80      16          0        4                  0     12.0       15.0   \n",
       "\n",
       "   total_Op  total_Opnd  branchCount  \n",
       "0      87.0        57.0          9.0  \n",
       "1      70.0        49.0         15.0  \n",
       "2     333.0       244.0         21.0  \n",
       "3      88.0        60.0         13.0  \n",
       "4      30.0        24.0          5.0  \n",
       "\n",
       "[5 rows x 22 columns]"
      ]
     },
     "execution_count": 7,
     "metadata": {},
     "output_type": "execute_result"
    }
   ],
   "source": [
    "test.head()"
   ]
  },
  {
   "cell_type": "markdown",
   "metadata": {},
   "source": [
    "## Feature Engineering"
   ]
  },
  {
   "cell_type": "markdown",
   "metadata": {},
   "source": [
    "Here I will use classical machine learning to determine which columns are really related to the dependent varible. But I want to use best model to that step. Here accuracy score can help me to understand which model is better."
   ]
  },
  {
   "cell_type": "code",
   "execution_count": 8,
   "metadata": {
    "execution": {
     "iopub.execute_input": "2024-05-29T15:35:25.681601Z",
     "iopub.status.busy": "2024-05-29T15:35:25.681171Z",
     "iopub.status.idle": "2024-05-29T15:36:01.923353Z",
     "shell.execute_reply": "2024-05-29T15:36:01.918041Z",
     "shell.execute_reply.started": "2024-05-29T15:35:25.681562Z"
    }
   },
   "outputs": [
    {
     "name": "stderr",
     "output_type": "stream",
     "text": [
      "/opt/conda/lib/python3.10/site-packages/sklearn/linear_model/_logistic.py:458: ConvergenceWarning: lbfgs failed to converge (status=1):\n",
      "STOP: TOTAL NO. of ITERATIONS REACHED LIMIT.\n",
      "\n",
      "Increase the number of iterations (max_iter) or scale the data as shown in:\n",
      "    https://scikit-learn.org/stable/modules/preprocessing.html\n",
      "Please also refer to the documentation for alternative solver options:\n",
      "    https://scikit-learn.org/stable/modules/linear_model.html#logistic-regression\n",
      "  n_iter_i = _check_optimize_result(\n"
     ]
    },
    {
     "name": "stdout",
     "output_type": "stream",
     "text": [
      "0.808283791087309\n",
      "0.786272294010711\n"
     ]
    }
   ],
   "source": [
    "from sklearn.ensemble import RandomForestClassifier\n",
    "from sklearn.linear_model import LogisticRegression\n",
    "from sklearn.model_selection import train_test_split\n",
    "from sklearn.metrics import accuracy_score\n",
    "\n",
    "X=train.drop([\"id\",\"defects\"],axis=1)\n",
    "y=train[\"defects\"]\n",
    "\n",
    "X_train,X_test,y_train,y_test=train_test_split(X,y,test_size=0.2,random_state=42)\n",
    "cfr=RandomForestClassifier()\n",
    "lr=LogisticRegression()\n",
    "cfr.fit(X_train,y_train)\n",
    "lr.fit(X_train,y_train)\n",
    "print(accuracy_score(y_test,cfr.predict(X_test)))\n",
    "print(accuracy_score(y_test,lr.predict(X_test)))"
   ]
  },
  {
   "cell_type": "markdown",
   "metadata": {},
   "source": [
    "**Random Forest Classifier** is better. You can try another models, if you want."
   ]
  },
  {
   "cell_type": "code",
   "execution_count": 9,
   "metadata": {
    "execution": {
     "iopub.execute_input": "2024-05-29T15:36:01.931148Z",
     "iopub.status.busy": "2024-05-29T15:36:01.926261Z",
     "iopub.status.idle": "2024-05-29T15:36:02.043112Z",
     "shell.execute_reply": "2024-05-29T15:36:02.041175Z",
     "shell.execute_reply.started": "2024-05-29T15:36:01.931060Z"
    }
   },
   "outputs": [
    {
     "name": "stdout",
     "output_type": "stream",
     "text": [
      "loc: 0.14370861894321935\n",
      "v: 0.06114326708454463\n",
      "v(g): 0.05988336203077188\n",
      "i: 0.05817561697304792\n",
      "lOCode: 0.05661417015659334\n",
      "e: 0.05547259699967277\n",
      "t: 0.05475611635249601\n",
      "d: 0.05053387252895212\n",
      "n: 0.04961213374907683\n",
      "total_Op: 0.04696344906913222\n",
      "iv(g): 0.046563882983862465\n",
      "total_Opnd: 0.04526418773513259\n",
      "branchCount: 0.04066318060525326\n",
      "uniq_Opnd: 0.03879041191870733\n",
      "uniq_Op: 0.035567558447290246\n",
      "lOBlank: 0.03244188320164214\n",
      "b: 0.03186072024160176\n",
      "l: 0.030406428278788415\n",
      "ev(g): 0.03040039288503782\n",
      "lOComment: 0.022008394260841984\n",
      "locCodeAndComment: 0.00916975555433497\n"
     ]
    }
   ],
   "source": [
    "feature_importance = cfr.feature_importances_\n",
    "columns=X.columns\n",
    "feature_importance_sorting = sorted(zip(columns, feature_importance), key=lambda x: x[1], reverse=True)\n",
    "for f, i in feature_importance_sorting:\n",
    "    print(f\"{f}: {i}\")"
   ]
  },
  {
   "cell_type": "markdown",
   "metadata": {},
   "source": [
    "<p style=\"font-size:20px\">I need to set a threshold value here. I usually set this value to ensure that less than half of the columns remain.</p>"
   ]
  },
  {
   "cell_type": "code",
   "execution_count": 10,
   "metadata": {
    "execution": {
     "iopub.execute_input": "2024-05-29T15:36:02.044909Z",
     "iopub.status.busy": "2024-05-29T15:36:02.044468Z",
     "iopub.status.idle": "2024-05-29T15:36:02.169061Z",
     "shell.execute_reply": "2024-05-29T15:36:02.167633Z",
     "shell.execute_reply.started": "2024-05-29T15:36:02.044867Z"
    }
   },
   "outputs": [],
   "source": [
    "for f, i in feature_importance_sorting:\n",
    "    if i < 0.05:\n",
    "        train.drop(f, axis=1, inplace=True)\n",
    "        test.drop(f, axis=1, inplace=True)\n",
    "    else:\n",
    "        continue"
   ]
  },
  {
   "cell_type": "code",
   "execution_count": 11,
   "metadata": {
    "execution": {
     "iopub.execute_input": "2024-05-29T15:36:02.170886Z",
     "iopub.status.busy": "2024-05-29T15:36:02.170483Z",
     "iopub.status.idle": "2024-05-29T15:36:34.856988Z",
     "shell.execute_reply": "2024-05-29T15:36:34.855655Z",
     "shell.execute_reply.started": "2024-05-29T15:36:02.170852Z"
    }
   },
   "outputs": [
    {
     "name": "stdout",
     "output_type": "stream",
     "text": [
      "0.8085785879231563\n"
     ]
    }
   ],
   "source": [
    "cfr=RandomForestClassifier()\n",
    "model=cfr.fit(X_train,y_train)\n",
    "print(accuracy_score(y_test,model.predict(X_test)))"
   ]
  },
  {
   "cell_type": "code",
   "execution_count": 12,
   "metadata": {
    "execution": {
     "iopub.execute_input": "2024-05-29T15:36:34.859029Z",
     "iopub.status.busy": "2024-05-29T15:36:34.858603Z",
     "iopub.status.idle": "2024-05-29T15:36:34.883977Z",
     "shell.execute_reply": "2024-05-29T15:36:34.882506Z",
     "shell.execute_reply.started": "2024-05-29T15:36:34.858992Z"
    }
   },
   "outputs": [],
   "source": [
    "X=train.drop([\"id\",\"defects\"],axis=1)\n",
    "y=train[\"defects\"]\n",
    "X_train,X_test,y_train,y_test=train_test_split(X,y,test_size=0.2,random_state=42)"
   ]
  },
  {
   "cell_type": "markdown",
   "metadata": {},
   "source": [
    "## Modelling"
   ]
  },
  {
   "cell_type": "code",
   "execution_count": 13,
   "metadata": {
    "execution": {
     "iopub.execute_input": "2024-05-29T15:36:34.889225Z",
     "iopub.status.busy": "2024-05-29T15:36:34.888725Z",
     "iopub.status.idle": "2024-05-29T15:36:39.569106Z",
     "shell.execute_reply": "2024-05-29T15:36:39.567433Z",
     "shell.execute_reply.started": "2024-05-29T15:36:34.889166Z"
    }
   },
   "outputs": [
    {
     "name": "stderr",
     "output_type": "stream",
     "text": [
      "2024-05-29 15:36:35.421794: E external/local_xla/xla/stream_executor/cuda/cuda_dnn.cc:9261] Unable to register cuDNN factory: Attempting to register factory for plugin cuDNN when one has already been registered\n",
      "2024-05-29 15:36:35.421904: E external/local_xla/xla/stream_executor/cuda/cuda_fft.cc:607] Unable to register cuFFT factory: Attempting to register factory for plugin cuFFT when one has already been registered\n",
      "2024-05-29 15:36:35.423829: E external/local_xla/xla/stream_executor/cuda/cuda_blas.cc:1515] Unable to register cuBLAS factory: Attempting to register factory for plugin cuBLAS when one has already been registered\n"
     ]
    }
   ],
   "source": [
    "from keras.models import Sequential\n",
    "from keras.layers import Dense, Dropout"
   ]
  },
  {
   "cell_type": "code",
   "execution_count": 14,
   "metadata": {
    "execution": {
     "iopub.execute_input": "2024-05-29T15:36:39.574853Z",
     "iopub.status.busy": "2024-05-29T15:36:39.573057Z",
     "iopub.status.idle": "2024-05-29T15:36:39.646458Z",
     "shell.execute_reply": "2024-05-29T15:36:39.645066Z",
     "shell.execute_reply.started": "2024-05-29T15:36:39.574772Z"
    }
   },
   "outputs": [],
   "source": [
    "model=Sequential()\n",
    "model.add(Dense(128,activation=\"relu\",))\n",
    "model.add(Dropout(0.2))\n",
    "model.add(Dense(64,activation=\"relu\"))\n",
    "model.add(Dense(32,activation=\"relu\"))\n",
    "model.add(Dropout(0.2))\n",
    "model.add(Dense(16,activation=\"relu\"))\n",
    "model.add(Dense(1,activation=\"sigmoid\"))\n",
    "model.compile(optimizer=\"adam\",loss=\"binary_crossentropy\",metrics=[\"accuracy\"])"
   ]
  },
  {
   "cell_type": "code",
   "execution_count": 15,
   "metadata": {
    "execution": {
     "iopub.execute_input": "2024-05-29T15:36:39.648578Z",
     "iopub.status.busy": "2024-05-29T15:36:39.648141Z",
     "iopub.status.idle": "2024-05-29T15:43:51.157016Z",
     "shell.execute_reply": "2024-05-29T15:43:51.155416Z",
     "shell.execute_reply.started": "2024-05-29T15:36:39.648542Z"
    }
   },
   "outputs": [
    {
     "name": "stdout",
     "output_type": "stream",
     "text": [
      "Epoch 1/50\n",
      "\u001b[1m2545/2545\u001b[0m \u001b[32m━━━━━━━━━━━━━━━━━━━━\u001b[0m\u001b[37m\u001b[0m \u001b[1m11s\u001b[0m 3ms/step - accuracy: 0.6798 - loss: 29.3763 - val_accuracy: 0.7891 - val_loss: 0.5135\n",
      "Epoch 2/50\n",
      "\u001b[1m2545/2545\u001b[0m \u001b[32m━━━━━━━━━━━━━━━━━━━━\u001b[0m\u001b[37m\u001b[0m \u001b[1m9s\u001b[0m 3ms/step - accuracy: 0.7807 - loss: 0.6344 - val_accuracy: 0.7916 - val_loss: 0.5110\n",
      "Epoch 3/50\n",
      "\u001b[1m2545/2545\u001b[0m \u001b[32m━━━━━━━━━━━━━━━━━━━━\u001b[0m\u001b[37m\u001b[0m \u001b[1m8s\u001b[0m 3ms/step - accuracy: 0.7827 - loss: 0.5900 - val_accuracy: 0.7842 - val_loss: 0.5130\n",
      "Epoch 4/50\n",
      "\u001b[1m2545/2545\u001b[0m \u001b[32m━━━━━━━━━━━━━━━━━━━━\u001b[0m\u001b[37m\u001b[0m \u001b[1m9s\u001b[0m 3ms/step - accuracy: 0.7828 - loss: 0.5289 - val_accuracy: 0.7882 - val_loss: 0.5116\n",
      "Epoch 5/50\n",
      "\u001b[1m2545/2545\u001b[0m \u001b[32m━━━━━━━━━━━━━━━━━━━━\u001b[0m\u001b[37m\u001b[0m \u001b[1m8s\u001b[0m 3ms/step - accuracy: 0.7830 - loss: 0.5373 - val_accuracy: 0.7871 - val_loss: 0.5118\n",
      "Epoch 6/50\n",
      "\u001b[1m2545/2545\u001b[0m \u001b[32m━━━━━━━━━━━━━━━━━━━━\u001b[0m\u001b[37m\u001b[0m \u001b[1m8s\u001b[0m 3ms/step - accuracy: 0.7845 - loss: 0.5229 - val_accuracy: 0.7915 - val_loss: 0.5105\n",
      "Epoch 7/50\n",
      "\u001b[1m2545/2545\u001b[0m \u001b[32m━━━━━━━━━━━━━━━━━━━━\u001b[0m\u001b[37m\u001b[0m \u001b[1m8s\u001b[0m 3ms/step - accuracy: 0.7861 - loss: 0.5384 - val_accuracy: 0.7916 - val_loss: 0.5100\n",
      "Epoch 8/50\n",
      "\u001b[1m2545/2545\u001b[0m \u001b[32m━━━━━━━━━━━━━━━━━━━━\u001b[0m\u001b[37m\u001b[0m \u001b[1m10s\u001b[0m 3ms/step - accuracy: 0.7844 - loss: 0.6805 - val_accuracy: 0.7912 - val_loss: 0.5106\n",
      "Epoch 9/50\n",
      "\u001b[1m2545/2545\u001b[0m \u001b[32m━━━━━━━━━━━━━━━━━━━━\u001b[0m\u001b[37m\u001b[0m \u001b[1m8s\u001b[0m 3ms/step - accuracy: 0.7854 - loss: 0.5204 - val_accuracy: 0.7919 - val_loss: 0.5088\n",
      "Epoch 10/50\n",
      "\u001b[1m2545/2545\u001b[0m \u001b[32m━━━━━━━━━━━━━━━━━━━━\u001b[0m\u001b[37m\u001b[0m \u001b[1m8s\u001b[0m 3ms/step - accuracy: 0.7845 - loss: 0.5183 - val_accuracy: 0.7916 - val_loss: 0.5086\n",
      "Epoch 11/50\n",
      "\u001b[1m2545/2545\u001b[0m \u001b[32m━━━━━━━━━━━━━━━━━━━━\u001b[0m\u001b[37m\u001b[0m \u001b[1m8s\u001b[0m 3ms/step - accuracy: 0.7883 - loss: 0.5153 - val_accuracy: 0.7914 - val_loss: 0.5088\n",
      "Epoch 12/50\n",
      "\u001b[1m2545/2545\u001b[0m \u001b[32m━━━━━━━━━━━━━━━━━━━━\u001b[0m\u001b[37m\u001b[0m \u001b[1m9s\u001b[0m 3ms/step - accuracy: 0.7880 - loss: 0.5154 - val_accuracy: 0.7910 - val_loss: 0.5091\n",
      "Epoch 13/50\n",
      "\u001b[1m2545/2545\u001b[0m \u001b[32m━━━━━━━━━━━━━━━━━━━━\u001b[0m\u001b[37m\u001b[0m \u001b[1m10s\u001b[0m 3ms/step - accuracy: 0.7855 - loss: 0.5168 - val_accuracy: 0.7920 - val_loss: 0.5085\n",
      "Epoch 14/50\n",
      "\u001b[1m2545/2545\u001b[0m \u001b[32m━━━━━━━━━━━━━━━━━━━━\u001b[0m\u001b[37m\u001b[0m \u001b[1m9s\u001b[0m 3ms/step - accuracy: 0.7861 - loss: 0.5266 - val_accuracy: 0.7914 - val_loss: 0.5085\n",
      "Epoch 15/50\n",
      "\u001b[1m2545/2545\u001b[0m \u001b[32m━━━━━━━━━━━━━━━━━━━━\u001b[0m\u001b[37m\u001b[0m \u001b[1m10s\u001b[0m 3ms/step - accuracy: 0.7862 - loss: 0.5148 - val_accuracy: 0.7913 - val_loss: 0.5086\n",
      "Epoch 16/50\n",
      "\u001b[1m2545/2545\u001b[0m \u001b[32m━━━━━━━━━━━━━━━━━━━━\u001b[0m\u001b[37m\u001b[0m \u001b[1m10s\u001b[0m 3ms/step - accuracy: 0.7844 - loss: 0.5262 - val_accuracy: 0.7897 - val_loss: 0.5096\n",
      "Epoch 17/50\n",
      "\u001b[1m2545/2545\u001b[0m \u001b[32m━━━━━━━━━━━━━━━━━━━━\u001b[0m\u001b[37m\u001b[0m \u001b[1m8s\u001b[0m 3ms/step - accuracy: 0.7859 - loss: 0.5158 - val_accuracy: 0.7924 - val_loss: 0.5083\n",
      "Epoch 18/50\n",
      "\u001b[1m2545/2545\u001b[0m \u001b[32m━━━━━━━━━━━━━━━━━━━━\u001b[0m\u001b[37m\u001b[0m \u001b[1m10s\u001b[0m 3ms/step - accuracy: 0.7894 - loss: 0.5472 - val_accuracy: 0.7921 - val_loss: 0.5084\n",
      "Epoch 19/50\n",
      "\u001b[1m2545/2545\u001b[0m \u001b[32m━━━━━━━━━━━━━━━━━━━━\u001b[0m\u001b[37m\u001b[0m \u001b[1m10s\u001b[0m 3ms/step - accuracy: 0.7887 - loss: 0.5160 - val_accuracy: 0.7919 - val_loss: 0.5082\n",
      "Epoch 20/50\n",
      "\u001b[1m2545/2545\u001b[0m \u001b[32m━━━━━━━━━━━━━━━━━━━━\u001b[0m\u001b[37m\u001b[0m \u001b[1m11s\u001b[0m 3ms/step - accuracy: 0.7866 - loss: 0.5156 - val_accuracy: 0.7919 - val_loss: 0.5080\n",
      "Epoch 21/50\n",
      "\u001b[1m2545/2545\u001b[0m \u001b[32m━━━━━━━━━━━━━━━━━━━━\u001b[0m\u001b[37m\u001b[0m \u001b[1m8s\u001b[0m 3ms/step - accuracy: 0.7889 - loss: 0.5129 - val_accuracy: 0.7919 - val_loss: 0.5089\n",
      "Epoch 22/50\n",
      "\u001b[1m2545/2545\u001b[0m \u001b[32m━━━━━━━━━━━━━━━━━━━━\u001b[0m\u001b[37m\u001b[0m \u001b[1m8s\u001b[0m 3ms/step - accuracy: 0.7894 - loss: 0.5117 - val_accuracy: 0.7916 - val_loss: 0.5090\n",
      "Epoch 23/50\n",
      "\u001b[1m2545/2545\u001b[0m \u001b[32m━━━━━━━━━━━━━━━━━━━━\u001b[0m\u001b[37m\u001b[0m \u001b[1m9s\u001b[0m 3ms/step - accuracy: 0.7886 - loss: 0.5128 - val_accuracy: 0.7921 - val_loss: 0.5083\n",
      "Epoch 24/50\n",
      "\u001b[1m2545/2545\u001b[0m \u001b[32m━━━━━━━━━━━━━━━━━━━━\u001b[0m\u001b[37m\u001b[0m \u001b[1m9s\u001b[0m 4ms/step - accuracy: 0.7867 - loss: 0.5203 - val_accuracy: 0.7917 - val_loss: 0.5084\n",
      "Epoch 25/50\n",
      "\u001b[1m2545/2545\u001b[0m \u001b[32m━━━━━━━━━━━━━━━━━━━━\u001b[0m\u001b[37m\u001b[0m \u001b[1m9s\u001b[0m 3ms/step - accuracy: 0.7887 - loss: 0.5448 - val_accuracy: 0.7921 - val_loss: 0.5081\n",
      "Epoch 26/50\n",
      "\u001b[1m2545/2545\u001b[0m \u001b[32m━━━━━━━━━━━━━━━━━━━━\u001b[0m\u001b[37m\u001b[0m \u001b[1m9s\u001b[0m 3ms/step - accuracy: 0.7886 - loss: 0.5129 - val_accuracy: 0.7913 - val_loss: 0.5086\n",
      "Epoch 27/50\n",
      "\u001b[1m2545/2545\u001b[0m \u001b[32m━━━━━━━━━━━━━━━━━━━━\u001b[0m\u001b[37m\u001b[0m \u001b[1m9s\u001b[0m 3ms/step - accuracy: 0.7846 - loss: 0.5170 - val_accuracy: 0.7919 - val_loss: 0.5080\n",
      "Epoch 28/50\n",
      "\u001b[1m2545/2545\u001b[0m \u001b[32m━━━━━━━━━━━━━━━━━━━━\u001b[0m\u001b[37m\u001b[0m \u001b[1m8s\u001b[0m 3ms/step - accuracy: 0.7858 - loss: 0.5265 - val_accuracy: 0.7919 - val_loss: 0.5080\n",
      "Epoch 29/50\n",
      "\u001b[1m2545/2545\u001b[0m \u001b[32m━━━━━━━━━━━━━━━━━━━━\u001b[0m\u001b[37m\u001b[0m \u001b[1m10s\u001b[0m 3ms/step - accuracy: 0.7875 - loss: 0.5189 - val_accuracy: 0.7921 - val_loss: 0.5079\n",
      "Epoch 30/50\n",
      "\u001b[1m2545/2545\u001b[0m \u001b[32m━━━━━━━━━━━━━━━━━━━━\u001b[0m\u001b[37m\u001b[0m \u001b[1m8s\u001b[0m 3ms/step - accuracy: 0.7846 - loss: 0.5174 - val_accuracy: 0.7919 - val_loss: 0.5080\n",
      "Epoch 31/50\n",
      "\u001b[1m2545/2545\u001b[0m \u001b[32m━━━━━━━━━━━━━━━━━━━━\u001b[0m\u001b[37m\u001b[0m \u001b[1m10s\u001b[0m 3ms/step - accuracy: 0.7867 - loss: 0.5177 - val_accuracy: 0.7918 - val_loss: 0.5086\n",
      "Epoch 32/50\n",
      "\u001b[1m2545/2545\u001b[0m \u001b[32m━━━━━━━━━━━━━━━━━━━━\u001b[0m\u001b[37m\u001b[0m \u001b[1m8s\u001b[0m 3ms/step - accuracy: 0.7884 - loss: 0.5128 - val_accuracy: 0.7915 - val_loss: 0.5084\n",
      "Epoch 33/50\n",
      "\u001b[1m2545/2545\u001b[0m \u001b[32m━━━━━━━━━━━━━━━━━━━━\u001b[0m\u001b[37m\u001b[0m \u001b[1m8s\u001b[0m 3ms/step - accuracy: 0.7886 - loss: 0.5143 - val_accuracy: 0.7913 - val_loss: 0.5087\n",
      "Epoch 34/50\n",
      "\u001b[1m2545/2545\u001b[0m \u001b[32m━━━━━━━━━━━━━━━━━━━━\u001b[0m\u001b[37m\u001b[0m \u001b[1m8s\u001b[0m 3ms/step - accuracy: 0.7874 - loss: 0.5143 - val_accuracy: 0.7918 - val_loss: 0.5083\n",
      "Epoch 35/50\n",
      "\u001b[1m2545/2545\u001b[0m \u001b[32m━━━━━━━━━━━━━━━━━━━━\u001b[0m\u001b[37m\u001b[0m \u001b[1m10s\u001b[0m 3ms/step - accuracy: 0.7887 - loss: 0.5183 - val_accuracy: 0.7920 - val_loss: 0.5082\n",
      "Epoch 36/50\n",
      "\u001b[1m2545/2545\u001b[0m \u001b[32m━━━━━━━━━━━━━━━━━━━━\u001b[0m\u001b[37m\u001b[0m \u001b[1m8s\u001b[0m 3ms/step - accuracy: 0.7881 - loss: 0.5128 - val_accuracy: 0.7921 - val_loss: 0.5079\n",
      "Epoch 37/50\n",
      "\u001b[1m2545/2545\u001b[0m \u001b[32m━━━━━━━━━━━━━━━━━━━━\u001b[0m\u001b[37m\u001b[0m \u001b[1m7s\u001b[0m 3ms/step - accuracy: 0.7895 - loss: 0.5120 - val_accuracy: 0.7915 - val_loss: 0.5087\n",
      "Epoch 38/50\n",
      "\u001b[1m2545/2545\u001b[0m \u001b[32m━━━━━━━━━━━━━━━━━━━━\u001b[0m\u001b[37m\u001b[0m \u001b[1m7s\u001b[0m 3ms/step - accuracy: 0.7858 - loss: 0.5153 - val_accuracy: 0.7920 - val_loss: 0.5081\n",
      "Epoch 39/50\n",
      "\u001b[1m2545/2545\u001b[0m \u001b[32m━━━━━━━━━━━━━━━━━━━━\u001b[0m\u001b[37m\u001b[0m \u001b[1m6s\u001b[0m 2ms/step - accuracy: 0.7870 - loss: 0.5334 - val_accuracy: 0.7921 - val_loss: 0.5078\n",
      "Epoch 40/50\n",
      "\u001b[1m2545/2545\u001b[0m \u001b[32m━━━━━━━━━━━━━━━━━━━━\u001b[0m\u001b[37m\u001b[0m \u001b[1m6s\u001b[0m 2ms/step - accuracy: 0.7872 - loss: 0.5144 - val_accuracy: 0.7917 - val_loss: 0.5087\n",
      "Epoch 41/50\n",
      "\u001b[1m2545/2545\u001b[0m \u001b[32m━━━━━━━━━━━━━━━━━━━━\u001b[0m\u001b[37m\u001b[0m \u001b[1m7s\u001b[0m 3ms/step - accuracy: 0.7879 - loss: 0.5275 - val_accuracy: 0.7919 - val_loss: 0.5081\n",
      "Epoch 42/50\n",
      "\u001b[1m2545/2545\u001b[0m \u001b[32m━━━━━━━━━━━━━━━━━━━━\u001b[0m\u001b[37m\u001b[0m \u001b[1m10s\u001b[0m 3ms/step - accuracy: 0.7843 - loss: 0.5285 - val_accuracy: 0.7919 - val_loss: 0.5078\n",
      "Epoch 43/50\n",
      "\u001b[1m2545/2545\u001b[0m \u001b[32m━━━━━━━━━━━━━━━━━━━━\u001b[0m\u001b[37m\u001b[0m \u001b[1m7s\u001b[0m 3ms/step - accuracy: 0.7875 - loss: 0.5122 - val_accuracy: 0.7920 - val_loss: 0.5087\n",
      "Epoch 44/50\n",
      "\u001b[1m2545/2545\u001b[0m \u001b[32m━━━━━━━━━━━━━━━━━━━━\u001b[0m\u001b[37m\u001b[0m \u001b[1m10s\u001b[0m 2ms/step - accuracy: 0.7864 - loss: 0.5152 - val_accuracy: 0.7917 - val_loss: 0.5090\n",
      "Epoch 45/50\n",
      "\u001b[1m2545/2545\u001b[0m \u001b[32m━━━━━━━━━━━━━━━━━━━━\u001b[0m\u001b[37m\u001b[0m \u001b[1m7s\u001b[0m 3ms/step - accuracy: 0.7877 - loss: 0.5135 - val_accuracy: 0.7918 - val_loss: 0.5085\n",
      "Epoch 46/50\n",
      "\u001b[1m2545/2545\u001b[0m \u001b[32m━━━━━━━━━━━━━━━━━━━━\u001b[0m\u001b[37m\u001b[0m \u001b[1m7s\u001b[0m 3ms/step - accuracy: 0.7893 - loss: 0.5133 - val_accuracy: 0.7919 - val_loss: 0.5082\n",
      "Epoch 47/50\n",
      "\u001b[1m2545/2545\u001b[0m \u001b[32m━━━━━━━━━━━━━━━━━━━━\u001b[0m\u001b[37m\u001b[0m \u001b[1m10s\u001b[0m 3ms/step - accuracy: 0.7862 - loss: 0.5195 - val_accuracy: 0.7920 - val_loss: 0.5086\n",
      "Epoch 48/50\n",
      "\u001b[1m2545/2545\u001b[0m \u001b[32m━━━━━━━━━━━━━━━━━━━━\u001b[0m\u001b[37m\u001b[0m \u001b[1m7s\u001b[0m 3ms/step - accuracy: 0.7894 - loss: 0.5129 - val_accuracy: 0.7920 - val_loss: 0.5083\n",
      "Epoch 49/50\n",
      "\u001b[1m2545/2545\u001b[0m \u001b[32m━━━━━━━━━━━━━━━━━━━━\u001b[0m\u001b[37m\u001b[0m \u001b[1m7s\u001b[0m 3ms/step - accuracy: 0.7869 - loss: 0.5330 - val_accuracy: 0.7917 - val_loss: 0.5088\n",
      "Epoch 50/50\n",
      "\u001b[1m2545/2545\u001b[0m \u001b[32m━━━━━━━━━━━━━━━━━━━━\u001b[0m\u001b[37m\u001b[0m \u001b[1m7s\u001b[0m 3ms/step - accuracy: 0.7863 - loss: 0.5156 - val_accuracy: 0.7919 - val_loss: 0.5088\n"
     ]
    }
   ],
   "source": [
    "history=model.fit(X_train,y_train,epochs=50,validation_data=(X_test,y_test))"
   ]
  },
  {
   "cell_type": "markdown",
   "metadata": {},
   "source": [
    "## Calculating Performance with ROC Curve "
   ]
  },
  {
   "cell_type": "code",
   "execution_count": 16,
   "metadata": {
    "execution": {
     "iopub.execute_input": "2024-05-29T15:43:51.160029Z",
     "iopub.status.busy": "2024-05-29T15:43:51.159411Z",
     "iopub.status.idle": "2024-05-29T15:43:51.166745Z",
     "shell.execute_reply": "2024-05-29T15:43:51.164966Z",
     "shell.execute_reply.started": "2024-05-29T15:43:51.159989Z"
    }
   },
   "outputs": [],
   "source": [
    "from sklearn.metrics import roc_curve, auc\n",
    "import matplotlib.pyplot as plt"
   ]
  },
  {
   "cell_type": "code",
   "execution_count": 17,
   "metadata": {
    "execution": {
     "iopub.execute_input": "2024-05-29T15:43:51.170522Z",
     "iopub.status.busy": "2024-05-29T15:43:51.169912Z",
     "iopub.status.idle": "2024-05-29T15:43:52.518572Z",
     "shell.execute_reply": "2024-05-29T15:43:52.517158Z",
     "shell.execute_reply.started": "2024-05-29T15:43:51.170462Z"
    }
   },
   "outputs": [
    {
     "name": "stdout",
     "output_type": "stream",
     "text": [
      "\u001b[1m637/637\u001b[0m \u001b[32m━━━━━━━━━━━━━━━━━━━━\u001b[0m\u001b[37m\u001b[0m \u001b[1m1s\u001b[0m 1ms/step\n"
     ]
    }
   ],
   "source": [
    "y_probs = model.predict(X_test)"
   ]
  },
  {
   "cell_type": "code",
   "execution_count": 18,
   "metadata": {
    "execution": {
     "iopub.execute_input": "2024-05-29T15:43:52.522590Z",
     "iopub.status.busy": "2024-05-29T15:43:52.521439Z",
     "iopub.status.idle": "2024-05-29T15:43:52.535154Z",
     "shell.execute_reply": "2024-05-29T15:43:52.533836Z",
     "shell.execute_reply.started": "2024-05-29T15:43:52.522538Z"
    }
   },
   "outputs": [],
   "source": [
    "fpr, tpr, thresholds = roc_curve(y_test, y_probs)\n",
    "roc_auc = auc(fpr, tpr)"
   ]
  },
  {
   "cell_type": "code",
   "execution_count": 19,
   "metadata": {
    "execution": {
     "iopub.execute_input": "2024-05-29T15:43:52.537730Z",
     "iopub.status.busy": "2024-05-29T15:43:52.537276Z",
     "iopub.status.idle": "2024-05-29T15:43:52.878197Z",
     "shell.execute_reply": "2024-05-29T15:43:52.877156Z",
     "shell.execute_reply.started": "2024-05-29T15:43:52.537685Z"
    }
   },
   "outputs": [
    {
     "data": {
      "image/png": "[encoded data removed]",
      "text/plain": [
       "<Figure size 640x480 with 1 Axes>"
      ]
     },
     "metadata": {},
     "output_type": "display_data"
    }
   ],
   "source": [
    "plt.figure()\n",
    "plt.plot(fpr, tpr, color='darkorange', lw=2, label='ROC curve (area = %0.2f)' % roc_auc)\n",
    "plt.plot([0, 1], [0, 1], color='navy', lw=2, linestyle='--')\n",
    "plt.xlim([0.0, 1.0])\n",
    "plt.ylim([0.0, 1.05])\n",
    "plt.xlabel('False Positive Rate')\n",
    "plt.ylabel('True Positive Rate')\n",
    "plt.title('Receiver Operating Characteristic (ROC) Curve')\n",
    "plt.legend(loc=\"lower right\")\n",
    "plt.show()"
   ]
  },
  {
   "cell_type": "code",
   "execution_count": 20,
   "metadata": {
    "execution": {
     "iopub.execute_input": "2024-05-29T15:43:52.880712Z",
     "iopub.status.busy": "2024-05-29T15:43:52.879777Z",
     "iopub.status.idle": "2024-05-29T15:43:58.271872Z",
     "shell.execute_reply": "2024-05-29T15:43:58.270410Z",
     "shell.execute_reply.started": "2024-05-29T15:43:52.880667Z"
    }
   },
   "outputs": [
    {
     "name": "stdout",
     "output_type": "stream",
     "text": [
      "\u001b[1m2121/2121\u001b[0m \u001b[32m━━━━━━━━━━━━━━━━━━━━\u001b[0m\u001b[37m\u001b[0m \u001b[1m3s\u001b[0m 1ms/step\n"
     ]
    }
   ],
   "source": [
    "ids=test[\"id\"]\n",
    "test.drop(\"id\",axis=1,inplace=True)\n",
    "y_pred=model.predict(test)\n",
    "ss[\"defects\"]=y_pred\n",
    "ss.to_csv(\"submission.csv\",index=False)"
   ]
  },
  {
   "cell_type": "code",
   "execution_count": 21,
   "metadata": {
    "execution": {
     "iopub.execute_input": "2024-05-29T15:46:41.949052Z",
     "iopub.status.busy": "2024-05-29T15:46:41.948521Z",
     "iopub.status.idle": "2024-05-29T15:46:42.005387Z",
     "shell.execute_reply": "2024-05-29T15:46:42.004131Z",
     "shell.execute_reply.started": "2024-05-29T15:46:41.949008Z"
    }
   },
   "outputs": [],
   "source": [
    "model.save(\"model.h5\")"
   ]
  },
  {
   "cell_type": "markdown",
   "metadata": {},
   "source": [
    "My ROC curve is ok. But it can be better. Also I think that metrics are not enough to understand the models performance. That's why I will develop a Streamlit application."
   ]
  },
  {
   "cell_type": "code",
   "execution_count": null,
   "metadata": {},
   "outputs": [],
   "source": []
  }
 ],
 "metadata": {
  "kaggle": {
   "accelerator": "none",
   "dataSources": [
    {
     "databundleVersionId": 6622167,
     "sourceId": 60890,
     "sourceType": "competition"
    }
   ],
   "dockerImageVersionId": 30698,
   "isGpuEnabled": false,
   "isInternetEnabled": true,
   "language": "python",
   "sourceType": "notebook"
  },
  "kernelspec": {
   "display_name": "Python 3 (ipykernel)",
   "language": "python",
   "name": "python3"
  },
  "language_info": {
   "codemirror_mode": {
    "name": "ipython",
    "version": 3
   },
   "file_extension": ".py",
   "mimetype": "text/x-python",
   "name": "python",
   "nbconvert_exporter": "python",
   "pygments_lexer": "ipython3",
   "version": "3.11.5"
  }
 },
 "nbformat": 4,
 "nbformat_minor": 4
}
